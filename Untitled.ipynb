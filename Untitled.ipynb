{
 "cells": [
  {
   "cell_type": "markdown",
   "metadata": {},
   "source": [
    "# A2: Bias in Wikipedia Data"
   ]
  },
  {
   "cell_type": "markdown",
   "metadata": {},
   "source": [
    "The goal of the project is to explore the concept of 'bias' through data on Wikipedia articles on politicians from a various countries."
   ]
  },
  {
   "cell_type": "code",
   "execution_count": 1,
   "metadata": {
    "collapsed": true
   },
   "outputs": [],
   "source": [
    "## importing required libraries\n",
    "import requests\n",
    "import json\n",
    "import numpy as np\n",
    "import pandas as pd"
   ]
  },
  {
   "cell_type": "markdown",
   "metadata": {},
   "source": [
    "### The wikipedia dataset is found at https://figshare.com/articles/Untitled_Item/5513449"
   ]
  },
  {
   "cell_type": "markdown",
   "metadata": {},
   "source": [
    "#### This dataset contains page, revision_id and the country names"
   ]
  },
  {
   "cell_type": "code",
   "execution_count": 2,
   "metadata": {
    "collapsed": true
   },
   "outputs": [],
   "source": [
    "# Reading the dataset \n",
    "page_data_df = pd.read_csv('page_data.csv')"
   ]
  },
  {
   "cell_type": "code",
   "execution_count": 3,
   "metadata": {
    "collapsed": true
   },
   "outputs": [],
   "source": [
    "# Initiating empty lists\n",
    "prediction = []\n",
    "predictionf = []"
   ]
  },
  {
   "cell_type": "code",
   "execution_count": null,
   "metadata": {
    "collapsed": true
   },
   "outputs": [],
   "source": [
    "## Ores API is called and the predictions of each article is saved in the empty list above, by calling each of the revision id.\n",
    "\n",
    "endpoint = 'https://ores.wikimedia.org/v3/scores/{project}/{revid}/{model}'\n",
    "headers = {'User-Agent' : 'https://github.com/your_github_username', 'From' : 'your_uw_email@uw.edu'}\n",
    "\n",
    "\n",
    "for i in range(0,page_data_df.shape[0]):\n",
    "    params = {'project' : 'enwiki',\n",
    "          'model' : 'wp10',\n",
    "          'revid' : page_data_df['rev_id'][i]\n",
    "          }\n",
    "    id = str(page_data_df['rev_id'][i])\n",
    "    api_call = requests.get(endpoint.format(**params))\n",
    "    response = api_call.json()\n",
    "    row = page_data_df['rev_id'][i]\n",
    "    prediction.append(response['enwiki']['scores'][id]['wp10']['score']['prediction'])\n",
    "    \n",
    "    \n",
    "    "
   ]
  },
  {
   "cell_type": "code",
   "execution_count": 20,
   "metadata": {
    "collapsed": true,
    "scrolled": false
   },
   "outputs": [],
   "source": [
    "for i in range(46864,page_data_df.shape[0]):\n",
    "    params = {'project' : 'enwiki',\n",
    "          'model' : 'wp10',\n",
    "          'revid' : page_data_df['rev_id'][i]\n",
    "          }\n",
    "    id = str(page_data_df['rev_id'][i])\n",
    "    api_call = requests.get(endpoint.format(**params))\n",
    "    response = api_call.json()\n",
    "    row = page_data_df['rev_id'][i]\n",
    "    predictionf.append(response['enwiki']['scores'][id]['wp10']['score']['prediction'])"
   ]
  },
  {
   "cell_type": "code",
   "execution_count": 13,
   "metadata": {
    "collapsed": true
   },
   "outputs": [],
   "source": [
    "df = pd.DataFrame(data={\"prediction\": prediction})\n",
    "df.to_csv(\"./prediction.csv\", sep=',',index=False)"
   ]
  },
  {
   "cell_type": "code",
   "execution_count": 24,
   "metadata": {
    "collapsed": true
   },
   "outputs": [],
   "source": [
    "df = pd.DataFrame(data={\"prediction2\": predictionf})\n",
    "df.to_csv(\"./prediction2.csv\", sep=',',index=False)"
   ]
  },
  {
   "cell_type": "code",
   "execution_count": 3,
   "metadata": {
    "collapsed": true
   },
   "outputs": [],
   "source": [
    "pred1 = pd.read_csv('prediction.csv')\n",
    "pred2 = pd.read_csv('prediction2.csv')"
   ]
  },
  {
   "cell_type": "code",
   "execution_count": 4,
   "metadata": {
    "collapsed": true
   },
   "outputs": [],
   "source": [
    "scores = np.vstack([pred1, 'NA', 'NA', pred2])"
   ]
  },
  {
   "cell_type": "code",
   "execution_count": 5,
   "metadata": {
    "collapsed": true
   },
   "outputs": [],
   "source": [
    "page_data_scores = np.hstack([page_data_df, scores])"
   ]
  },
  {
   "cell_type": "code",
   "execution_count": 6,
   "metadata": {
    "collapsed": true
   },
   "outputs": [],
   "source": [
    "page_data_scores = pd.DataFrame(page_data_scores)"
   ]
  },
  {
   "cell_type": "code",
   "execution_count": 7,
   "metadata": {
    "collapsed": true
   },
   "outputs": [],
   "source": [
    "page_data_scores.columns = ['article_name', 'Location', 'revision_id', 'article_quality']"
   ]
  },
  {
   "cell_type": "markdown",
   "metadata": {},
   "source": [
    "### Population Data can be found at http://www.prb.org/DataFinder/Topic/Rankings.aspx?ind=14"
   ]
  },
  {
   "cell_type": "code",
   "execution_count": 26,
   "metadata": {
    "collapsed": true
   },
   "outputs": [],
   "source": [
    "# reading in the population dataset\n",
    "population = pd.read_csv('Population Mid-2015.csv', header=1)\n",
    "population['Data'] = population['Data'].str.replace(',', '')"
   ]
  },
  {
   "cell_type": "markdown",
   "metadata": {},
   "source": [
    "## Combining datasets"
   ]
  },
  {
   "cell_type": "markdown",
   "metadata": {},
   "source": [
    "Wikipedia and population datasets are merged and saved to a final dataframe, which is saved to a csv file."
   ]
  },
  {
   "cell_type": "code",
   "execution_count": 9,
   "metadata": {
    "collapsed": true,
    "scrolled": true
   },
   "outputs": [],
   "source": [
    "merged_df = pd.merge(page_data_scores, population, on='Location', how='inner')"
   ]
  },
  {
   "cell_type": "code",
   "execution_count": 10,
   "metadata": {
    "collapsed": true,
    "scrolled": true
   },
   "outputs": [],
   "source": [
    "final_df = merged_df[['Location', 'article_name', 'revision_id', 'article_quality', 'Data']]"
   ]
  },
  {
   "cell_type": "code",
   "execution_count": 11,
   "metadata": {
    "collapsed": true,
    "scrolled": true
   },
   "outputs": [],
   "source": [
    "final_df.columns = ['country', 'article_name', 'revision_id', 'article_quality', 'population']"
   ]
  },
  {
   "cell_type": "code",
   "execution_count": 12,
   "metadata": {
    "collapsed": true
   },
   "outputs": [],
   "source": [
    "# writing the final required dataset into a csv file\n",
    "final_df.to_csv(\"./final_df.csv\", sep=',',index=False)"
   ]
  },
  {
   "cell_type": "markdown",
   "metadata": {},
   "source": [
    "## Analysis"
   ]
  },
  {
   "cell_type": "markdown",
   "metadata": {},
   "source": [
    "To begin with the analysis, firstly the total number of articles per country is calculated and then divided by the population of that corresponding country to give the percentage of proportion of political articles in a country"
   ]
  },
  {
   "cell_type": "code",
   "execution_count": 14,
   "metadata": {},
   "outputs": [],
   "source": [
    "country_count = final_df[[\"country\",\"article_name\"]].groupby(\"country\").count().astype(int).reset_index()"
   ]
  },
  {
   "cell_type": "code",
   "execution_count": 15,
   "metadata": {},
   "outputs": [],
   "source": [
    "country_count = pd.DataFrame({'country':country_count['country'], 'count':country_count['article_name']})"
   ]
  },
  {
   "cell_type": "code",
   "execution_count": 16,
   "metadata": {},
   "outputs": [],
   "source": [
    "prop = country_count.merge(population, left_on='country', right_on='Location', how='inner')\n",
    "prop['percentage'] = prop['count']*100/pd.to_numeric(prop['Data'])"
   ]
  },
  {
   "cell_type": "code",
   "execution_count": 17,
   "metadata": {
    "scrolled": true
   },
   "outputs": [],
   "source": [
    "prop = prop[['country', 'count', 'Data', 'percentage']]"
   ]
  },
  {
   "cell_type": "markdown",
   "metadata": {},
   "source": [
    "### 10 highest-ranked countries in terms of number of politician articles as a proportion of country population"
   ]
  },
  {
   "cell_type": "code",
   "execution_count": 18,
   "metadata": {},
   "outputs": [
    {
     "data": {
      "text/html": [
       "<div>\n",
       "<style>\n",
       "    .dataframe thead tr:only-child th {\n",
       "        text-align: right;\n",
       "    }\n",
       "\n",
       "    .dataframe thead th {\n",
       "        text-align: left;\n",
       "    }\n",
       "\n",
       "    .dataframe tbody tr th {\n",
       "        vertical-align: top;\n",
       "    }\n",
       "</style>\n",
       "<table border=\"1\" class=\"dataframe\">\n",
       "  <thead>\n",
       "    <tr style=\"text-align: right;\">\n",
       "      <th></th>\n",
       "      <th>country</th>\n",
       "      <th>count</th>\n",
       "      <th>Data</th>\n",
       "      <th>percentage</th>\n",
       "    </tr>\n",
       "  </thead>\n",
       "  <tbody>\n",
       "    <tr>\n",
       "      <th>120</th>\n",
       "      <td>Nauru</td>\n",
       "      <td>53</td>\n",
       "      <td>10860</td>\n",
       "      <td>0.488029</td>\n",
       "    </tr>\n",
       "    <tr>\n",
       "      <th>173</th>\n",
       "      <td>Tuvalu</td>\n",
       "      <td>55</td>\n",
       "      <td>11800</td>\n",
       "      <td>0.466102</td>\n",
       "    </tr>\n",
       "    <tr>\n",
       "      <th>141</th>\n",
       "      <td>San Marino</td>\n",
       "      <td>82</td>\n",
       "      <td>33000</td>\n",
       "      <td>0.248485</td>\n",
       "    </tr>\n",
       "    <tr>\n",
       "      <th>113</th>\n",
       "      <td>Monaco</td>\n",
       "      <td>40</td>\n",
       "      <td>38088</td>\n",
       "      <td>0.105020</td>\n",
       "    </tr>\n",
       "    <tr>\n",
       "      <th>97</th>\n",
       "      <td>Liechtenstein</td>\n",
       "      <td>29</td>\n",
       "      <td>37570</td>\n",
       "      <td>0.077189</td>\n",
       "    </tr>\n",
       "    <tr>\n",
       "      <th>107</th>\n",
       "      <td>Marshall Islands</td>\n",
       "      <td>37</td>\n",
       "      <td>55000</td>\n",
       "      <td>0.067273</td>\n",
       "    </tr>\n",
       "    <tr>\n",
       "      <th>72</th>\n",
       "      <td>Iceland</td>\n",
       "      <td>206</td>\n",
       "      <td>330828</td>\n",
       "      <td>0.062268</td>\n",
       "    </tr>\n",
       "    <tr>\n",
       "      <th>168</th>\n",
       "      <td>Tonga</td>\n",
       "      <td>63</td>\n",
       "      <td>103300</td>\n",
       "      <td>0.060987</td>\n",
       "    </tr>\n",
       "    <tr>\n",
       "      <th>3</th>\n",
       "      <td>Andorra</td>\n",
       "      <td>34</td>\n",
       "      <td>78000</td>\n",
       "      <td>0.043590</td>\n",
       "    </tr>\n",
       "    <tr>\n",
       "      <th>54</th>\n",
       "      <td>Federated States of Micronesia</td>\n",
       "      <td>38</td>\n",
       "      <td>103000</td>\n",
       "      <td>0.036893</td>\n",
       "    </tr>\n",
       "  </tbody>\n",
       "</table>\n",
       "</div>"
      ],
      "text/plain": [
       "                            country  count    Data  percentage\n",
       "120                           Nauru     53   10860    0.488029\n",
       "173                          Tuvalu     55   11800    0.466102\n",
       "141                      San Marino     82   33000    0.248485\n",
       "113                          Monaco     40   38088    0.105020\n",
       "97                    Liechtenstein     29   37570    0.077189\n",
       "107                Marshall Islands     37   55000    0.067273\n",
       "72                          Iceland    206  330828    0.062268\n",
       "168                           Tonga     63  103300    0.060987\n",
       "3                           Andorra     34   78000    0.043590\n",
       "54   Federated States of Micronesia     38  103000    0.036893"
      ]
     },
     "execution_count": 18,
     "metadata": {},
     "output_type": "execute_result"
    }
   ],
   "source": [
    "prop.sort_values(by=['percentage'], ascending=0).head(10)"
   ]
  },
  {
   "cell_type": "markdown",
   "metadata": {},
   "source": [
    "### 10 lowest-ranked countries in terms of number of politician articles as a proportion of country population"
   ]
  },
  {
   "cell_type": "code",
   "execution_count": 19,
   "metadata": {},
   "outputs": [
    {
     "data": {
      "text/html": [
       "<div>\n",
       "<style>\n",
       "    .dataframe thead tr:only-child th {\n",
       "        text-align: right;\n",
       "    }\n",
       "\n",
       "    .dataframe thead th {\n",
       "        text-align: left;\n",
       "    }\n",
       "\n",
       "    .dataframe tbody tr th {\n",
       "        vertical-align: top;\n",
       "    }\n",
       "</style>\n",
       "<table border=\"1\" class=\"dataframe\">\n",
       "  <thead>\n",
       "    <tr style=\"text-align: right;\">\n",
       "      <th></th>\n",
       "      <th>country</th>\n",
       "      <th>count</th>\n",
       "      <th>Data</th>\n",
       "      <th>percentage</th>\n",
       "    </tr>\n",
       "  </thead>\n",
       "  <tbody>\n",
       "    <tr>\n",
       "      <th>73</th>\n",
       "      <td>India</td>\n",
       "      <td>990</td>\n",
       "      <td>1314097616</td>\n",
       "      <td>0.000075</td>\n",
       "    </tr>\n",
       "    <tr>\n",
       "      <th>34</th>\n",
       "      <td>China</td>\n",
       "      <td>1138</td>\n",
       "      <td>1371920000</td>\n",
       "      <td>0.000083</td>\n",
       "    </tr>\n",
       "    <tr>\n",
       "      <th>74</th>\n",
       "      <td>Indonesia</td>\n",
       "      <td>215</td>\n",
       "      <td>255741973</td>\n",
       "      <td>0.000084</td>\n",
       "    </tr>\n",
       "    <tr>\n",
       "      <th>180</th>\n",
       "      <td>Uzbekistan</td>\n",
       "      <td>29</td>\n",
       "      <td>31290791</td>\n",
       "      <td>0.000093</td>\n",
       "    </tr>\n",
       "    <tr>\n",
       "      <th>53</th>\n",
       "      <td>Ethiopia</td>\n",
       "      <td>105</td>\n",
       "      <td>98148000</td>\n",
       "      <td>0.000107</td>\n",
       "    </tr>\n",
       "    <tr>\n",
       "      <th>86</th>\n",
       "      <td>Korea, North</td>\n",
       "      <td>39</td>\n",
       "      <td>24983000</td>\n",
       "      <td>0.000156</td>\n",
       "    </tr>\n",
       "    <tr>\n",
       "      <th>185</th>\n",
       "      <td>Zambia</td>\n",
       "      <td>26</td>\n",
       "      <td>15473900</td>\n",
       "      <td>0.000168</td>\n",
       "    </tr>\n",
       "    <tr>\n",
       "      <th>166</th>\n",
       "      <td>Thailand</td>\n",
       "      <td>112</td>\n",
       "      <td>65121250</td>\n",
       "      <td>0.000172</td>\n",
       "    </tr>\n",
       "    <tr>\n",
       "      <th>38</th>\n",
       "      <td>Congo, Dem. Rep. of</td>\n",
       "      <td>142</td>\n",
       "      <td>73340200</td>\n",
       "      <td>0.000194</td>\n",
       "    </tr>\n",
       "    <tr>\n",
       "      <th>13</th>\n",
       "      <td>Bangladesh</td>\n",
       "      <td>324</td>\n",
       "      <td>160411000</td>\n",
       "      <td>0.000202</td>\n",
       "    </tr>\n",
       "  </tbody>\n",
       "</table>\n",
       "</div>"
      ],
      "text/plain": [
       "                 country  count        Data  percentage\n",
       "73                 India    990  1314097616    0.000075\n",
       "34                 China   1138  1371920000    0.000083\n",
       "74             Indonesia    215   255741973    0.000084\n",
       "180           Uzbekistan     29    31290791    0.000093\n",
       "53              Ethiopia    105    98148000    0.000107\n",
       "86          Korea, North     39    24983000    0.000156\n",
       "185               Zambia     26    15473900    0.000168\n",
       "166             Thailand    112    65121250    0.000172\n",
       "38   Congo, Dem. Rep. of    142    73340200    0.000194\n",
       "13            Bangladesh    324   160411000    0.000202"
      ]
     },
     "execution_count": 19,
     "metadata": {},
     "output_type": "execute_result"
    }
   ],
   "source": [
    "prop.sort_values(by=['percentage'], ascending=1).head(10)"
   ]
  },
  {
   "cell_type": "markdown",
   "metadata": {},
   "source": [
    "To get the proportion of high quality articles in eac country, only the articles that are qualified in GA and FA groups are taken."
   ]
  },
  {
   "cell_type": "code",
   "execution_count": 20,
   "metadata": {},
   "outputs": [],
   "source": [
    "GA = final_df.loc[final_df['article_quality'] == 'GA']\n",
    "FA = final_df.loc[final_df['article_quality'] == 'FA']\n",
    "GA_FA_final = pd.concat([GA,FA])"
   ]
  },
  {
   "cell_type": "code",
   "execution_count": 21,
   "metadata": {
    "collapsed": true
   },
   "outputs": [],
   "source": [
    "GA_FA_count = GA_FA_final[[\"country\",\"article_name\"]].groupby(\"country\").count().astype(int).reset_index()"
   ]
  },
  {
   "cell_type": "code",
   "execution_count": 22,
   "metadata": {},
   "outputs": [],
   "source": [
    "GA_FA_prop = GA_FA_count.merge(country_count, left_on='country', right_on='country', how='inner')\n",
    "GA_FA_prop['percentage'] = GA_FA_count['article_name']*100/GA_FA_prop['count']"
   ]
  },
  {
   "cell_type": "markdown",
   "metadata": {},
   "source": [
    "### 10 highest-ranked countries in terms of number of GA and FA-quality articles as a proportion of all articles about politicians from that country"
   ]
  },
  {
   "cell_type": "code",
   "execution_count": 23,
   "metadata": {
    "scrolled": true
   },
   "outputs": [
    {
     "data": {
      "text/html": [
       "<div>\n",
       "<style>\n",
       "    .dataframe thead tr:only-child th {\n",
       "        text-align: right;\n",
       "    }\n",
       "\n",
       "    .dataframe thead th {\n",
       "        text-align: left;\n",
       "    }\n",
       "\n",
       "    .dataframe tbody tr th {\n",
       "        vertical-align: top;\n",
       "    }\n",
       "</style>\n",
       "<table border=\"1\" class=\"dataframe\">\n",
       "  <thead>\n",
       "    <tr style=\"text-align: right;\">\n",
       "      <th></th>\n",
       "      <th>country</th>\n",
       "      <th>article_name</th>\n",
       "      <th>count</th>\n",
       "      <th>percentage</th>\n",
       "    </tr>\n",
       "  </thead>\n",
       "  <tbody>\n",
       "    <tr>\n",
       "      <th>67</th>\n",
       "      <td>Korea, North</td>\n",
       "      <td>9</td>\n",
       "      <td>39</td>\n",
       "      <td>23.076923</td>\n",
       "    </tr>\n",
       "    <tr>\n",
       "      <th>111</th>\n",
       "      <td>Romania</td>\n",
       "      <td>45</td>\n",
       "      <td>348</td>\n",
       "      <td>12.931034</td>\n",
       "    </tr>\n",
       "    <tr>\n",
       "      <th>114</th>\n",
       "      <td>Saudi Arabia</td>\n",
       "      <td>15</td>\n",
       "      <td>119</td>\n",
       "      <td>12.605042</td>\n",
       "    </tr>\n",
       "    <tr>\n",
       "      <th>22</th>\n",
       "      <td>Central African Republic</td>\n",
       "      <td>8</td>\n",
       "      <td>68</td>\n",
       "      <td>11.764706</td>\n",
       "    </tr>\n",
       "    <tr>\n",
       "      <th>110</th>\n",
       "      <td>Qatar</td>\n",
       "      <td>5</td>\n",
       "      <td>51</td>\n",
       "      <td>9.803922</td>\n",
       "    </tr>\n",
       "    <tr>\n",
       "      <th>52</th>\n",
       "      <td>Guinea-Bissau</td>\n",
       "      <td>2</td>\n",
       "      <td>21</td>\n",
       "      <td>9.523810</td>\n",
       "    </tr>\n",
       "    <tr>\n",
       "      <th>145</th>\n",
       "      <td>Vietnam</td>\n",
       "      <td>18</td>\n",
       "      <td>191</td>\n",
       "      <td>9.424084</td>\n",
       "    </tr>\n",
       "    <tr>\n",
       "      <th>12</th>\n",
       "      <td>Bhutan</td>\n",
       "      <td>3</td>\n",
       "      <td>33</td>\n",
       "      <td>9.090909</td>\n",
       "    </tr>\n",
       "    <tr>\n",
       "      <th>60</th>\n",
       "      <td>Ireland</td>\n",
       "      <td>31</td>\n",
       "      <td>381</td>\n",
       "      <td>8.136483</td>\n",
       "    </tr>\n",
       "    <tr>\n",
       "      <th>140</th>\n",
       "      <td>United States</td>\n",
       "      <td>86</td>\n",
       "      <td>1098</td>\n",
       "      <td>7.832423</td>\n",
       "    </tr>\n",
       "  </tbody>\n",
       "</table>\n",
       "</div>"
      ],
      "text/plain": [
       "                      country  article_name  count  percentage\n",
       "67               Korea, North             9     39   23.076923\n",
       "111                   Romania            45    348   12.931034\n",
       "114              Saudi Arabia            15    119   12.605042\n",
       "22   Central African Republic             8     68   11.764706\n",
       "110                     Qatar             5     51    9.803922\n",
       "52              Guinea-Bissau             2     21    9.523810\n",
       "145                   Vietnam            18    191    9.424084\n",
       "12                     Bhutan             3     33    9.090909\n",
       "60                    Ireland            31    381    8.136483\n",
       "140             United States            86   1098    7.832423"
      ]
     },
     "execution_count": 23,
     "metadata": {},
     "output_type": "execute_result"
    }
   ],
   "source": [
    "GA_FA_prop.sort_values(by=['percentage'], ascending=0).head(10)"
   ]
  },
  {
   "cell_type": "markdown",
   "metadata": {},
   "source": [
    "### 10 lowest-ranked countries in terms of number of GA and FA-quality articles as a proportion of all articles about politicians from that country"
   ]
  },
  {
   "cell_type": "code",
   "execution_count": 24,
   "metadata": {},
   "outputs": [
    {
     "data": {
      "text/html": [
       "<div>\n",
       "<style>\n",
       "    .dataframe thead tr:only-child th {\n",
       "        text-align: right;\n",
       "    }\n",
       "\n",
       "    .dataframe thead th {\n",
       "        text-align: left;\n",
       "    }\n",
       "\n",
       "    .dataframe tbody tr th {\n",
       "        vertical-align: top;\n",
       "    }\n",
       "</style>\n",
       "<table border=\"1\" class=\"dataframe\">\n",
       "  <thead>\n",
       "    <tr style=\"text-align: right;\">\n",
       "      <th></th>\n",
       "      <th>country</th>\n",
       "      <th>article_name</th>\n",
       "      <th>count</th>\n",
       "      <th>percentage</th>\n",
       "    </tr>\n",
       "  </thead>\n",
       "  <tbody>\n",
       "    <tr>\n",
       "      <th>42</th>\n",
       "      <td>Finland</td>\n",
       "      <td>1</td>\n",
       "      <td>572</td>\n",
       "      <td>0.174825</td>\n",
       "    </tr>\n",
       "    <tr>\n",
       "      <th>130</th>\n",
       "      <td>Tanzania</td>\n",
       "      <td>1</td>\n",
       "      <td>408</td>\n",
       "      <td>0.245098</td>\n",
       "    </tr>\n",
       "    <tr>\n",
       "      <th>106</th>\n",
       "      <td>Peru</td>\n",
       "      <td>1</td>\n",
       "      <td>354</td>\n",
       "      <td>0.282486</td>\n",
       "    </tr>\n",
       "    <tr>\n",
       "      <th>33</th>\n",
       "      <td>Czech Republic</td>\n",
       "      <td>1</td>\n",
       "      <td>254</td>\n",
       "      <td>0.393701</td>\n",
       "    </tr>\n",
       "    <tr>\n",
       "      <th>77</th>\n",
       "      <td>Lithuania</td>\n",
       "      <td>1</td>\n",
       "      <td>248</td>\n",
       "      <td>0.403226</td>\n",
       "    </tr>\n",
       "    <tr>\n",
       "      <th>89</th>\n",
       "      <td>Moldova</td>\n",
       "      <td>2</td>\n",
       "      <td>426</td>\n",
       "      <td>0.469484</td>\n",
       "    </tr>\n",
       "    <tr>\n",
       "      <th>41</th>\n",
       "      <td>Fiji</td>\n",
       "      <td>1</td>\n",
       "      <td>199</td>\n",
       "      <td>0.502513</td>\n",
       "    </tr>\n",
       "    <tr>\n",
       "      <th>136</th>\n",
       "      <td>Uganda</td>\n",
       "      <td>1</td>\n",
       "      <td>188</td>\n",
       "      <td>0.531915</td>\n",
       "    </tr>\n",
       "    <tr>\n",
       "      <th>78</th>\n",
       "      <td>Luxembourg</td>\n",
       "      <td>1</td>\n",
       "      <td>180</td>\n",
       "      <td>0.555556</td>\n",
       "    </tr>\n",
       "    <tr>\n",
       "      <th>99</th>\n",
       "      <td>Nigeria</td>\n",
       "      <td>4</td>\n",
       "      <td>684</td>\n",
       "      <td>0.584795</td>\n",
       "    </tr>\n",
       "  </tbody>\n",
       "</table>\n",
       "</div>"
      ],
      "text/plain": [
       "            country  article_name  count  percentage\n",
       "42          Finland             1    572    0.174825\n",
       "130        Tanzania             1    408    0.245098\n",
       "106            Peru             1    354    0.282486\n",
       "33   Czech Republic             1    254    0.393701\n",
       "77        Lithuania             1    248    0.403226\n",
       "89          Moldova             2    426    0.469484\n",
       "41             Fiji             1    199    0.502513\n",
       "136          Uganda             1    188    0.531915\n",
       "78       Luxembourg             1    180    0.555556\n",
       "99          Nigeria             4    684    0.584795"
      ]
     },
     "execution_count": 24,
     "metadata": {},
     "output_type": "execute_result"
    }
   ],
   "source": [
    "GA_FA_prop.sort_values(by=['percentage'], ascending=1).head(10)"
   ]
  },
  {
   "cell_type": "markdown",
   "metadata": {},
   "source": [
    "## Challenges"
   ]
  },
  {
   "cell_type": "markdown",
   "metadata": {},
   "source": [
    "I have tried another workaround for producing the above tables using SQL.\n",
    "The below SQL query gave the exact results as above."
   ]
  },
  {
   "cell_type": "code",
   "execution_count": 54,
   "metadata": {},
   "outputs": [],
   "source": [
    "from sqlalchemy import create_engine\n",
    "## create a database engine and insert the final_df into a table \n",
    "disk_engine = create_engine('sqlite:///my_lite_store.db')\n",
    "final_df.to_sql('final', disk_engine, if_exists='append')"
   ]
  },
  {
   "cell_type": "code",
   "execution_count": 83,
   "metadata": {
    "scrolled": true
   },
   "outputs": [],
   "source": [
    "proportion_df = pd.read_sql_query('SELECT country, count(*) as number, population FROM final GROUP BY country ',disk_engine)"
   ]
  },
  {
   "cell_type": "code",
   "execution_count": 84,
   "metadata": {
    "collapsed": true
   },
   "outputs": [],
   "source": [
    "proportion_df['prop'] = proportion_df['number']/proportion_df['population']"
   ]
  },
  {
   "cell_type": "markdown",
   "metadata": {},
   "source": [
    "### 10 highest-ranked countries in terms of number of politician articles as a proportion of country population"
   ]
  },
  {
   "cell_type": "code",
   "execution_count": 86,
   "metadata": {},
   "outputs": [
    {
     "data": {
      "text/html": [
       "<div>\n",
       "<style>\n",
       "    .dataframe thead tr:only-child th {\n",
       "        text-align: right;\n",
       "    }\n",
       "\n",
       "    .dataframe thead th {\n",
       "        text-align: left;\n",
       "    }\n",
       "\n",
       "    .dataframe tbody tr th {\n",
       "        vertical-align: top;\n",
       "    }\n",
       "</style>\n",
       "<table border=\"1\" class=\"dataframe\">\n",
       "  <thead>\n",
       "    <tr style=\"text-align: right;\">\n",
       "      <th></th>\n",
       "      <th>country</th>\n",
       "      <th>number</th>\n",
       "      <th>population</th>\n",
       "      <th>prop</th>\n",
       "    </tr>\n",
       "  </thead>\n",
       "  <tbody>\n",
       "    <tr>\n",
       "      <th>120</th>\n",
       "      <td>Nauru</td>\n",
       "      <td>53</td>\n",
       "      <td>10860</td>\n",
       "      <td>0.004880</td>\n",
       "    </tr>\n",
       "    <tr>\n",
       "      <th>173</th>\n",
       "      <td>Tuvalu</td>\n",
       "      <td>55</td>\n",
       "      <td>11800</td>\n",
       "      <td>0.004661</td>\n",
       "    </tr>\n",
       "    <tr>\n",
       "      <th>141</th>\n",
       "      <td>San Marino</td>\n",
       "      <td>82</td>\n",
       "      <td>33000</td>\n",
       "      <td>0.002485</td>\n",
       "    </tr>\n",
       "    <tr>\n",
       "      <th>113</th>\n",
       "      <td>Monaco</td>\n",
       "      <td>40</td>\n",
       "      <td>38088</td>\n",
       "      <td>0.001050</td>\n",
       "    </tr>\n",
       "    <tr>\n",
       "      <th>97</th>\n",
       "      <td>Liechtenstein</td>\n",
       "      <td>29</td>\n",
       "      <td>37570</td>\n",
       "      <td>0.000772</td>\n",
       "    </tr>\n",
       "    <tr>\n",
       "      <th>107</th>\n",
       "      <td>Marshall Islands</td>\n",
       "      <td>37</td>\n",
       "      <td>55000</td>\n",
       "      <td>0.000673</td>\n",
       "    </tr>\n",
       "    <tr>\n",
       "      <th>72</th>\n",
       "      <td>Iceland</td>\n",
       "      <td>206</td>\n",
       "      <td>330828</td>\n",
       "      <td>0.000623</td>\n",
       "    </tr>\n",
       "    <tr>\n",
       "      <th>168</th>\n",
       "      <td>Tonga</td>\n",
       "      <td>63</td>\n",
       "      <td>103300</td>\n",
       "      <td>0.000610</td>\n",
       "    </tr>\n",
       "    <tr>\n",
       "      <th>3</th>\n",
       "      <td>Andorra</td>\n",
       "      <td>34</td>\n",
       "      <td>78000</td>\n",
       "      <td>0.000436</td>\n",
       "    </tr>\n",
       "    <tr>\n",
       "      <th>54</th>\n",
       "      <td>Federated States of Micronesia</td>\n",
       "      <td>38</td>\n",
       "      <td>103000</td>\n",
       "      <td>0.000369</td>\n",
       "    </tr>\n",
       "  </tbody>\n",
       "</table>\n",
       "</div>"
      ],
      "text/plain": [
       "                            country  number  population      prop\n",
       "120                           Nauru      53       10860  0.004880\n",
       "173                          Tuvalu      55       11800  0.004661\n",
       "141                      San Marino      82       33000  0.002485\n",
       "113                          Monaco      40       38088  0.001050\n",
       "97                    Liechtenstein      29       37570  0.000772\n",
       "107                Marshall Islands      37       55000  0.000673\n",
       "72                          Iceland     206      330828  0.000623\n",
       "168                           Tonga      63      103300  0.000610\n",
       "3                           Andorra      34       78000  0.000436\n",
       "54   Federated States of Micronesia      38      103000  0.000369"
      ]
     },
     "execution_count": 86,
     "metadata": {},
     "output_type": "execute_result"
    }
   ],
   "source": [
    "proportion_df.sort_values(by=['prop'], ascending=0).head(10)"
   ]
  },
  {
   "cell_type": "markdown",
   "metadata": {},
   "source": [
    "### 10 lowest-ranked countries in terms of number of politician articles as a proportion of country population"
   ]
  },
  {
   "cell_type": "code",
   "execution_count": 85,
   "metadata": {},
   "outputs": [
    {
     "data": {
      "text/html": [
       "<div>\n",
       "<style>\n",
       "    .dataframe thead tr:only-child th {\n",
       "        text-align: right;\n",
       "    }\n",
       "\n",
       "    .dataframe thead th {\n",
       "        text-align: left;\n",
       "    }\n",
       "\n",
       "    .dataframe tbody tr th {\n",
       "        vertical-align: top;\n",
       "    }\n",
       "</style>\n",
       "<table border=\"1\" class=\"dataframe\">\n",
       "  <thead>\n",
       "    <tr style=\"text-align: right;\">\n",
       "      <th></th>\n",
       "      <th>country</th>\n",
       "      <th>number</th>\n",
       "      <th>population</th>\n",
       "      <th>prop</th>\n",
       "    </tr>\n",
       "  </thead>\n",
       "  <tbody>\n",
       "    <tr>\n",
       "      <th>73</th>\n",
       "      <td>India</td>\n",
       "      <td>990</td>\n",
       "      <td>1314097616</td>\n",
       "      <td>7.533687e-07</td>\n",
       "    </tr>\n",
       "    <tr>\n",
       "      <th>34</th>\n",
       "      <td>China</td>\n",
       "      <td>1138</td>\n",
       "      <td>1371920000</td>\n",
       "      <td>8.294944e-07</td>\n",
       "    </tr>\n",
       "    <tr>\n",
       "      <th>74</th>\n",
       "      <td>Indonesia</td>\n",
       "      <td>215</td>\n",
       "      <td>255741973</td>\n",
       "      <td>8.406911e-07</td>\n",
       "    </tr>\n",
       "    <tr>\n",
       "      <th>180</th>\n",
       "      <td>Uzbekistan</td>\n",
       "      <td>29</td>\n",
       "      <td>31290791</td>\n",
       "      <td>9.267902e-07</td>\n",
       "    </tr>\n",
       "    <tr>\n",
       "      <th>53</th>\n",
       "      <td>Ethiopia</td>\n",
       "      <td>105</td>\n",
       "      <td>98148000</td>\n",
       "      <td>1.069813e-06</td>\n",
       "    </tr>\n",
       "    <tr>\n",
       "      <th>86</th>\n",
       "      <td>Korea, North</td>\n",
       "      <td>39</td>\n",
       "      <td>24983000</td>\n",
       "      <td>1.561062e-06</td>\n",
       "    </tr>\n",
       "    <tr>\n",
       "      <th>185</th>\n",
       "      <td>Zambia</td>\n",
       "      <td>26</td>\n",
       "      <td>15473900</td>\n",
       "      <td>1.680249e-06</td>\n",
       "    </tr>\n",
       "    <tr>\n",
       "      <th>166</th>\n",
       "      <td>Thailand</td>\n",
       "      <td>112</td>\n",
       "      <td>65121250</td>\n",
       "      <td>1.719869e-06</td>\n",
       "    </tr>\n",
       "    <tr>\n",
       "      <th>38</th>\n",
       "      <td>Congo, Dem. Rep. of</td>\n",
       "      <td>142</td>\n",
       "      <td>73340200</td>\n",
       "      <td>1.936182e-06</td>\n",
       "    </tr>\n",
       "    <tr>\n",
       "      <th>13</th>\n",
       "      <td>Bangladesh</td>\n",
       "      <td>324</td>\n",
       "      <td>160411000</td>\n",
       "      <td>2.019812e-06</td>\n",
       "    </tr>\n",
       "  </tbody>\n",
       "</table>\n",
       "</div>"
      ],
      "text/plain": [
       "                 country  number  population          prop\n",
       "73                 India     990  1314097616  7.533687e-07\n",
       "34                 China    1138  1371920000  8.294944e-07\n",
       "74             Indonesia     215   255741973  8.406911e-07\n",
       "180           Uzbekistan      29    31290791  9.267902e-07\n",
       "53              Ethiopia     105    98148000  1.069813e-06\n",
       "86          Korea, North      39    24983000  1.561062e-06\n",
       "185               Zambia      26    15473900  1.680249e-06\n",
       "166             Thailand     112    65121250  1.719869e-06\n",
       "38   Congo, Dem. Rep. of     142    73340200  1.936182e-06\n",
       "13            Bangladesh     324   160411000  2.019812e-06"
      ]
     },
     "execution_count": 85,
     "metadata": {},
     "output_type": "execute_result"
    }
   ],
   "source": [
    "proportion_df.sort_values(by=['prop'], ascending=1).head(10)"
   ]
  },
  {
   "cell_type": "code",
   "execution_count": null,
   "metadata": {
    "collapsed": true
   },
   "outputs": [],
   "source": []
  }
 ],
 "metadata": {
  "kernelspec": {
   "display_name": "Python 3",
   "language": "python",
   "name": "python3"
  },
  "language_info": {
   "codemirror_mode": {
    "name": "ipython",
    "version": 3
   },
   "file_extension": ".py",
   "mimetype": "text/x-python",
   "name": "python",
   "nbconvert_exporter": "python",
   "pygments_lexer": "ipython3",
   "version": "3.6.1"
  }
 },
 "nbformat": 4,
 "nbformat_minor": 2
}
